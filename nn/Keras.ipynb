{
 "cells": [
  {
   "cell_type": "code",
   "execution_count": null,
   "metadata": {
    "collapsed": false
   },
   "outputs": [],
   "source": [
    "%pylab inline"
   ]
  },
  {
   "cell_type": "code",
   "execution_count": null,
   "metadata": {
    "collapsed": false
   },
   "outputs": [],
   "source": [
    "import numpy as np\n",
    "import pandas as pd\n",
    "import matplotlib.pyplot as plt\n",
    "import keras\n",
    "import keras.models as km\n",
    "import keras.layers as kl\n",
    "from sklearn import metrics, model_selection"
   ]
  },
  {
   "cell_type": "code",
   "execution_count": null,
   "metadata": {
    "collapsed": false
   },
   "outputs": [],
   "source": [
    "ratings = pd.read_csv('data_train.csv', dtype={'Prediction': np.int})\n",
    "pos = ratings.Id.str.extract('r([0-9]+)_c([0-9]+)', expand=True)\n",
    "ratings['User'] = pos[0]\n",
    "ratings['Item'] = pos[1]\n",
    "ratings.head()"
   ]
  },
  {
   "cell_type": "code",
   "execution_count": null,
   "metadata": {
    "collapsed": false
   },
   "outputs": [],
   "source": [
    "n_i = ratings.Item.unique().shape[0]\n",
    "n_i"
   ]
  },
  {
   "cell_type": "code",
   "execution_count": null,
   "metadata": {
    "collapsed": false
   },
   "outputs": [],
   "source": [
    "n_u = ratings.User.unique().shape[0]\n",
    "n_u"
   ]
  },
  {
   "cell_type": "code",
   "execution_count": null,
   "metadata": {
    "collapsed": false
   },
   "outputs": [],
   "source": [
    "y = np.zeros([ratings.shape[0], 5])\n",
    "y[np.arange(ratings.shape[0]), ratings.Prediction - 1] = 1\n",
    "y.shape"
   ]
  },
  {
   "cell_type": "code",
   "execution_count": null,
   "metadata": {
    "collapsed": false
   },
   "outputs": [],
   "source": [
    "input_i = kl.Input(shape=[1])\n",
    "i = kl.Embedding(n_i + 1, 64)(input_i)\n",
    "i = kl.Flatten()(i)\n",
    "i = kl.Dropout(0.5)(i)\n",
    "\n",
    "input_u = kl.Input(shape=[1])\n",
    "u = kl.Embedding(n_u + 1, 64)(input_u)\n",
    "u = kl.Flatten()(u)\n",
    "u = kl.Dropout(0.5)(u)\n",
    "\n",
    "nn = kl.merge([i, u], mode='concat')\n",
    "nn = kl.Dense(128, activation='relu')(nn)\n",
    "nn = kl.Dropout(0.5)(nn)\n",
    "nn = kl.normalization.BatchNormalization()(nn)\n",
    "nn = kl.Dense(128, activation='relu')(nn)\n",
    "#nn = kl.Dropout(0.5)(nn)\n",
    "#nn = kl.normalization.BatchNormalization()(nn)\n",
    "#nn = kl.Dense(128, activation='relu')(nn)\n",
    "\n",
    "output = kl.Dense(5, activation='softmax')(nn)\n",
    "\n",
    "model = km.Model([input_i, input_u], output)\n",
    "model.compile('adam', 'categorical_crossentropy')"
   ]
  },
  {
   "cell_type": "code",
   "execution_count": null,
   "metadata": {
    "collapsed": false
   },
   "outputs": [],
   "source": [
    "train_u, test_u, train_i, test_i, train_y, test_y = model_selection.train_test_split(ratings.User, ratings.Item, y, test_size=0.5)\n",
    "train_u.shape"
   ]
  },
  {
   "cell_type": "code",
   "execution_count": null,
   "metadata": {
    "collapsed": false
   },
   "outputs": [],
   "source": [
    "epochs = model.fit(\n",
    "    [train_i[:], train_u[:]], train_y[:], \n",
    "    validation_split=0.1,\n",
    "    nb_epoch=3\n",
    ")"
   ]
  },
  {
   "cell_type": "code",
   "execution_count": null,
   "metadata": {
    "collapsed": false
   },
   "outputs": [],
   "source": [
    "mse = metrics.mean_squared_error(\n",
    "    np.argmax(test_y, 1) + 1, \n",
    "    np.argmax(model.predict([test_i, test_u]), 1) + 1\n",
    ")\n",
    "np.sqrt(mse)"
   ]
  },
  {
   "cell_type": "code",
   "execution_count": null,
   "metadata": {
    "collapsed": false
   },
   "outputs": [],
   "source": [
    "sub = pd.read_csv('sampleSubmission.csv')\n",
    "sub.head()"
   ]
  },
  {
   "cell_type": "code",
   "execution_count": null,
   "metadata": {
    "collapsed": false
   },
   "outputs": [],
   "source": [
    "pos = sub.Id.str.extract('r([0-9]+)_c([0-9]+)', expand=True)\n",
    "sub['User'] = pos[0]\n",
    "sub['Item'] = pos[1]\n",
    "sub.head()"
   ]
  },
  {
   "cell_type": "code",
   "execution_count": null,
   "metadata": {
    "collapsed": false
   },
   "outputs": [],
   "source": [
    "sub['Prediction'] = np.argmax(model.predict([sub.Item, sub.User]), axis=1) + 1\n",
    "sub.head()"
   ]
  },
  {
   "cell_type": "code",
   "execution_count": null,
   "metadata": {
    "collapsed": false
   },
   "outputs": [],
   "source": [
    "sub.to_csv('submission.csv', columns=['Id', 'Prediction'], index=False)"
   ]
  },
  {
   "cell_type": "code",
   "execution_count": null,
   "metadata": {
    "collapsed": true
   },
   "outputs": [],
   "source": []
  }
 ],
 "metadata": {
  "kernelspec": {
   "display_name": "Python 3",
   "language": "python",
   "name": "python3"
  },
  "language_info": {
   "codemirror_mode": {
    "name": "ipython",
    "version": 3
   },
   "file_extension": ".py",
   "mimetype": "text/x-python",
   "name": "python",
   "nbconvert_exporter": "python",
   "pygments_lexer": "ipython3",
   "version": "3.5.2"
  }
 },
 "nbformat": 4,
 "nbformat_minor": 2
}
